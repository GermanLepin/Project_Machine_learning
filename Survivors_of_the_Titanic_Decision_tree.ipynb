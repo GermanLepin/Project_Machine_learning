{
 "cells": [
  {
   "cell_type": "markdown",
   "metadata": {},
   "source": [
    "Задача: предсказать какие из пассажиров выжили во время крушения Титаника.\n",
    "Так как данная задача - задача бинарной классификации, способом её решения я выберу: \"Дерево решений\". \"Дерево решений\" выглядет как алгоритм или инструкция,что делать в какой ситуации, выявляются параметры, которые играют существенную роль\n",
    "В зависимости от параметров строится модель, которая в итоге выдает ответы или распределяет объекты в тот или иной класс, самый типичный пример задачи бинарной классификации - это кредитный скоринг (решение о выдачи кредита в зависимости от различных факторов, ответом будет:выдовать или не выдовать). В случае с моим примером (выжившие на Тинанике) также могут быть быть два класса: выжил, не выжил. Когда компьютер строит модель дерева решений он пытается разделить какие из факторов являются самыми важными, потом какие менее важны и т.д. вплоть до того, когда уже становится очевидно к какомму классу отнести тот или ной объект. Первым делом мне нужно подготовить датасет, очистить/заменить некорректные значения, обявить целевую переменную и обучающие переменные, привести все данные к типу integer, после обработки данных, уже применять алгоритм."
   ]
  },
  {
   "cell_type": "code",
   "execution_count": 1,
   "metadata": {},
   "outputs": [],
   "source": [
    "#Импортирую библиотеки и модули\n",
    "\n",
    "import pandas as pd\n",
    "import numpy as np\n",
    "import matplotlib.pyplot as plt\n",
    "from sklearn.tree import DecisionTreeClassifier\n",
    "from sklearn import tree"
   ]
  },
  {
   "cell_type": "code",
   "execution_count": 2,
   "metadata": {},
   "outputs": [
    {
     "data": {
      "text/html": [
       "<div>\n",
       "<style scoped>\n",
       "    .dataframe tbody tr th:only-of-type {\n",
       "        vertical-align: middle;\n",
       "    }\n",
       "\n",
       "    .dataframe tbody tr th {\n",
       "        vertical-align: top;\n",
       "    }\n",
       "\n",
       "    .dataframe thead th {\n",
       "        text-align: right;\n",
       "    }\n",
       "</style>\n",
       "<table border=\"1\" class=\"dataframe\">\n",
       "  <thead>\n",
       "    <tr style=\"text-align: right;\">\n",
       "      <th></th>\n",
       "      <th>PassengerId</th>\n",
       "      <th>Survived</th>\n",
       "      <th>Pclass</th>\n",
       "      <th>Name</th>\n",
       "      <th>Sex</th>\n",
       "      <th>Age</th>\n",
       "      <th>SibSp</th>\n",
       "      <th>Parch</th>\n",
       "      <th>Ticket</th>\n",
       "      <th>Fare</th>\n",
       "      <th>Cabin</th>\n",
       "      <th>Embarked</th>\n",
       "    </tr>\n",
       "  </thead>\n",
       "  <tbody>\n",
       "    <tr>\n",
       "      <th>0</th>\n",
       "      <td>1</td>\n",
       "      <td>0</td>\n",
       "      <td>3</td>\n",
       "      <td>Braund, Mr. Owen Harris</td>\n",
       "      <td>male</td>\n",
       "      <td>22.0</td>\n",
       "      <td>1</td>\n",
       "      <td>0</td>\n",
       "      <td>A/5 21171</td>\n",
       "      <td>7.2500</td>\n",
       "      <td>NaN</td>\n",
       "      <td>S</td>\n",
       "    </tr>\n",
       "    <tr>\n",
       "      <th>1</th>\n",
       "      <td>2</td>\n",
       "      <td>1</td>\n",
       "      <td>1</td>\n",
       "      <td>Cumings, Mrs. John Bradley (Florence Briggs Th...</td>\n",
       "      <td>female</td>\n",
       "      <td>38.0</td>\n",
       "      <td>1</td>\n",
       "      <td>0</td>\n",
       "      <td>PC 17599</td>\n",
       "      <td>71.2833</td>\n",
       "      <td>C85</td>\n",
       "      <td>C</td>\n",
       "    </tr>\n",
       "    <tr>\n",
       "      <th>2</th>\n",
       "      <td>3</td>\n",
       "      <td>1</td>\n",
       "      <td>3</td>\n",
       "      <td>Heikkinen, Miss. Laina</td>\n",
       "      <td>female</td>\n",
       "      <td>26.0</td>\n",
       "      <td>0</td>\n",
       "      <td>0</td>\n",
       "      <td>STON/O2. 3101282</td>\n",
       "      <td>7.9250</td>\n",
       "      <td>NaN</td>\n",
       "      <td>S</td>\n",
       "    </tr>\n",
       "    <tr>\n",
       "      <th>3</th>\n",
       "      <td>4</td>\n",
       "      <td>1</td>\n",
       "      <td>1</td>\n",
       "      <td>Futrelle, Mrs. Jacques Heath (Lily May Peel)</td>\n",
       "      <td>female</td>\n",
       "      <td>35.0</td>\n",
       "      <td>1</td>\n",
       "      <td>0</td>\n",
       "      <td>113803</td>\n",
       "      <td>53.1000</td>\n",
       "      <td>C123</td>\n",
       "      <td>S</td>\n",
       "    </tr>\n",
       "    <tr>\n",
       "      <th>4</th>\n",
       "      <td>5</td>\n",
       "      <td>0</td>\n",
       "      <td>3</td>\n",
       "      <td>Allen, Mr. William Henry</td>\n",
       "      <td>male</td>\n",
       "      <td>35.0</td>\n",
       "      <td>0</td>\n",
       "      <td>0</td>\n",
       "      <td>373450</td>\n",
       "      <td>8.0500</td>\n",
       "      <td>NaN</td>\n",
       "      <td>S</td>\n",
       "    </tr>\n",
       "    <tr>\n",
       "      <th>...</th>\n",
       "      <td>...</td>\n",
       "      <td>...</td>\n",
       "      <td>...</td>\n",
       "      <td>...</td>\n",
       "      <td>...</td>\n",
       "      <td>...</td>\n",
       "      <td>...</td>\n",
       "      <td>...</td>\n",
       "      <td>...</td>\n",
       "      <td>...</td>\n",
       "      <td>...</td>\n",
       "      <td>...</td>\n",
       "    </tr>\n",
       "    <tr>\n",
       "      <th>886</th>\n",
       "      <td>887</td>\n",
       "      <td>0</td>\n",
       "      <td>2</td>\n",
       "      <td>Montvila, Rev. Juozas</td>\n",
       "      <td>male</td>\n",
       "      <td>27.0</td>\n",
       "      <td>0</td>\n",
       "      <td>0</td>\n",
       "      <td>211536</td>\n",
       "      <td>13.0000</td>\n",
       "      <td>NaN</td>\n",
       "      <td>S</td>\n",
       "    </tr>\n",
       "    <tr>\n",
       "      <th>887</th>\n",
       "      <td>888</td>\n",
       "      <td>1</td>\n",
       "      <td>1</td>\n",
       "      <td>Graham, Miss. Margaret Edith</td>\n",
       "      <td>female</td>\n",
       "      <td>19.0</td>\n",
       "      <td>0</td>\n",
       "      <td>0</td>\n",
       "      <td>112053</td>\n",
       "      <td>30.0000</td>\n",
       "      <td>B42</td>\n",
       "      <td>S</td>\n",
       "    </tr>\n",
       "    <tr>\n",
       "      <th>888</th>\n",
       "      <td>889</td>\n",
       "      <td>0</td>\n",
       "      <td>3</td>\n",
       "      <td>Johnston, Miss. Catherine Helen \"Carrie\"</td>\n",
       "      <td>female</td>\n",
       "      <td>NaN</td>\n",
       "      <td>1</td>\n",
       "      <td>2</td>\n",
       "      <td>W./C. 6607</td>\n",
       "      <td>23.4500</td>\n",
       "      <td>NaN</td>\n",
       "      <td>S</td>\n",
       "    </tr>\n",
       "    <tr>\n",
       "      <th>889</th>\n",
       "      <td>890</td>\n",
       "      <td>1</td>\n",
       "      <td>1</td>\n",
       "      <td>Behr, Mr. Karl Howell</td>\n",
       "      <td>male</td>\n",
       "      <td>26.0</td>\n",
       "      <td>0</td>\n",
       "      <td>0</td>\n",
       "      <td>111369</td>\n",
       "      <td>30.0000</td>\n",
       "      <td>C148</td>\n",
       "      <td>C</td>\n",
       "    </tr>\n",
       "    <tr>\n",
       "      <th>890</th>\n",
       "      <td>891</td>\n",
       "      <td>0</td>\n",
       "      <td>3</td>\n",
       "      <td>Dooley, Mr. Patrick</td>\n",
       "      <td>male</td>\n",
       "      <td>32.0</td>\n",
       "      <td>0</td>\n",
       "      <td>0</td>\n",
       "      <td>370376</td>\n",
       "      <td>7.7500</td>\n",
       "      <td>NaN</td>\n",
       "      <td>Q</td>\n",
       "    </tr>\n",
       "  </tbody>\n",
       "</table>\n",
       "<p>891 rows × 12 columns</p>\n",
       "</div>"
      ],
      "text/plain": [
       "     PassengerId  Survived  Pclass  \\\n",
       "0              1         0       3   \n",
       "1              2         1       1   \n",
       "2              3         1       3   \n",
       "3              4         1       1   \n",
       "4              5         0       3   \n",
       "..           ...       ...     ...   \n",
       "886          887         0       2   \n",
       "887          888         1       1   \n",
       "888          889         0       3   \n",
       "889          890         1       1   \n",
       "890          891         0       3   \n",
       "\n",
       "                                                  Name     Sex   Age  SibSp  \\\n",
       "0                              Braund, Mr. Owen Harris    male  22.0      1   \n",
       "1    Cumings, Mrs. John Bradley (Florence Briggs Th...  female  38.0      1   \n",
       "2                               Heikkinen, Miss. Laina  female  26.0      0   \n",
       "3         Futrelle, Mrs. Jacques Heath (Lily May Peel)  female  35.0      1   \n",
       "4                             Allen, Mr. William Henry    male  35.0      0   \n",
       "..                                                 ...     ...   ...    ...   \n",
       "886                              Montvila, Rev. Juozas    male  27.0      0   \n",
       "887                       Graham, Miss. Margaret Edith  female  19.0      0   \n",
       "888           Johnston, Miss. Catherine Helen \"Carrie\"  female   NaN      1   \n",
       "889                              Behr, Mr. Karl Howell    male  26.0      0   \n",
       "890                                Dooley, Mr. Patrick    male  32.0      0   \n",
       "\n",
       "     Parch            Ticket     Fare Cabin Embarked  \n",
       "0        0         A/5 21171   7.2500   NaN        S  \n",
       "1        0          PC 17599  71.2833   C85        C  \n",
       "2        0  STON/O2. 3101282   7.9250   NaN        S  \n",
       "3        0            113803  53.1000  C123        S  \n",
       "4        0            373450   8.0500   NaN        S  \n",
       "..     ...               ...      ...   ...      ...  \n",
       "886      0            211536  13.0000   NaN        S  \n",
       "887      0            112053  30.0000   B42        S  \n",
       "888      2        W./C. 6607  23.4500   NaN        S  \n",
       "889      0            111369  30.0000  C148        C  \n",
       "890      0            370376   7.7500   NaN        Q  \n",
       "\n",
       "[891 rows x 12 columns]"
      ]
     },
     "execution_count": 2,
     "metadata": {},
     "output_type": "execute_result"
    }
   ],
   "source": [
    "##Загрузка и визуализация данных (датасет я скачал с сайта kaggle) \n",
    "\n",
    "Data_titanic = pd.read_csv('Titanic.csv')\n",
    "Data_titanic"
   ]
  },
  {
   "cell_type": "code",
   "execution_count": 3,
   "metadata": {},
   "outputs": [],
   "source": [
    "#Предварительная работа с данными \n",
    "\n",
    "colums_target = ['Survived'] #Поле Servived - будет являться целевым полем\n",
    "colums_train = ['Pclass', 'Sex', 'Age', 'Fare' ] #Поля Pclass, Sex, Age, Fare - будут полями для обучения"
   ]
  },
  {
   "cell_type": "code",
   "execution_count": 4,
   "metadata": {},
   "outputs": [],
   "source": [
    "#Необходимо создать переменные в которых будут находиться данные, которые хронятся в целевой колонке и обущающих колонках\n",
    "\n",
    "Train = Data_titanic[colums_train] #переменная Х\n",
    "Target = Data_titanic[colums_target] #переменная Y"
   ]
  },
  {
   "cell_type": "markdown",
   "metadata": {},
   "source": [
    "Важно проверить качесвто данных, поэтому первоочередно нужно проверить есть ли пустые ячеки в данных, чтобы проверить наличие пустых ячеек воспользуюсь формулой: isnull().sum()"
   ]
  },
  {
   "cell_type": "code",
   "execution_count": 5,
   "metadata": {},
   "outputs": [
    {
     "data": {
      "text/plain": [
       "0"
      ]
     },
     "execution_count": 5,
     "metadata": {},
     "output_type": "execute_result"
    }
   ],
   "source": [
    "Target['Survived'].isnull().sum()"
   ]
  },
  {
   "cell_type": "code",
   "execution_count": 6,
   "metadata": {},
   "outputs": [
    {
     "data": {
      "text/plain": [
       "0"
      ]
     },
     "execution_count": 6,
     "metadata": {},
     "output_type": "execute_result"
    }
   ],
   "source": [
    "Train['Pclass'].isnull().sum()"
   ]
  },
  {
   "cell_type": "code",
   "execution_count": 7,
   "metadata": {},
   "outputs": [
    {
     "data": {
      "text/plain": [
       "0"
      ]
     },
     "execution_count": 7,
     "metadata": {},
     "output_type": "execute_result"
    }
   ],
   "source": [
    "Train['Sex'].isnull().sum()"
   ]
  },
  {
   "cell_type": "code",
   "execution_count": 8,
   "metadata": {},
   "outputs": [
    {
     "data": {
      "text/plain": [
       "177"
      ]
     },
     "execution_count": 8,
     "metadata": {},
     "output_type": "execute_result"
    }
   ],
   "source": [
    "Train['Age'].isnull().sum()"
   ]
  },
  {
   "cell_type": "code",
   "execution_count": 9,
   "metadata": {},
   "outputs": [
    {
     "data": {
      "text/plain": [
       "0"
      ]
     },
     "execution_count": 9,
     "metadata": {},
     "output_type": "execute_result"
    }
   ],
   "source": [
    "Train['Fare'].isnull().sum()"
   ]
  },
  {
   "cell_type": "markdown",
   "metadata": {},
   "source": [
    "При проверке полей было вявлено, что есть 177 пассажиров у которых не указан возраст (Age), просто удалить 177 пассажиров \n",
    "из выборки состоящей из 891 пассажира нельзя, так как это сильно повлияет на результат. Обычно в таких случаях придают среднее или медианное значение по этому полю. С помощью нормального распределения я смогу сделать корректный выбор, какой способ заполнения NaN использовать."
   ]
  },
  {
   "cell_type": "code",
   "execution_count": 10,
   "metadata": {},
   "outputs": [
    {
     "data": {
      "image/png": "[encoded data removed]",
      "text/plain": [
       "<Figure size 1152x1728 with 2 Axes>"
      ]
     },
     "metadata": {
      "needs_background": "light"
     },
     "output_type": "display_data"
    }
   ],
   "source": [
    "Data_titanic_age = ['Age']\n",
    "DTA = Data_titanic[Data_titanic_age]\n",
    "DTA.hist(figsize = (16,24), layout=(2,1))\n",
    "plt.show()"
   ]
  },
  {
   "cell_type": "markdown",
   "metadata": {},
   "source": [
    "Я буду использовать медианное значение, так как видно на графике отклонения распределения от нормального закона. В таком случае среднее значение использовать некорректно, медианое (в отличие от среднего значения) устойчив к «выбросам». "
   ]
  },
  {
   "cell_type": "markdown",
   "metadata": {},
   "source": [
    "Специальная функция в библиотеке pandas - fillna возвращает DataFrame, но NaN, замененны новыми значениями. Во время выполнения кода ниже появляется предупреждение, которое информирует о том, что значение пытается быть установлено на копии фрагмента из DataFrame мне это и нужно, поэтому я продолжаю работать с кодом"
   ]
  },
  {
   "cell_type": "code",
   "execution_count": 13,
   "metadata": {},
   "outputs": [
    {
     "name": "stderr",
     "output_type": "stream",
     "text": [
      "<ipython-input-13-1076ca7eada7>:1: SettingWithCopyWarning: \n",
      "A value is trying to be set on a copy of a slice from a DataFrame.\n",
      "Try using .loc[row_indexer,col_indexer] = value instead\n",
      "\n",
      "See the caveats in the documentation: https://pandas.pydata.org/pandas-docs/stable/user_guide/indexing.html#returning-a-view-versus-a-copy\n",
      "  Train['Age']= Train['Age'].fillna(Train['Age'].median())\n"
     ]
    }
   ],
   "source": [
    "Train['Age']= Train['Age'].fillna(Train['Age'].median())"
   ]
  },
  {
   "cell_type": "code",
   "execution_count": 14,
   "metadata": {},
   "outputs": [
    {
     "data": {
      "text/plain": [
       "0"
      ]
     },
     "execution_count": 14,
     "metadata": {},
     "output_type": "execute_result"
    }
   ],
   "source": [
    "#Проверяем есть ли пустые ячейки в поле Age(возраст)\n",
    "\n",
    "Train['Age'].isnull().sum()"
   ]
  },
  {
   "cell_type": "markdown",
   "metadata": {},
   "source": [
    "В модели sklearn нельзя использовать переменную типа string, а в моей выборке как раз такая есть - это Sex. В переменной пол пассажира (Sex) прописано 'male' и 'female', соответсвено, для того чтобы модель работала нужно заменить 'male' на 1, а 'female' на 0. Сделать это можно с помощью словаря. Можно отключить розовые предупреждения использую код в настройках pandas"
   ]
  },
  {
   "cell_type": "code",
   "execution_count": 15,
   "metadata": {},
   "outputs": [],
   "source": [
    "#С помощью этого кода мы меняем данные в data set\n",
    "pd.options.mode.chained_assignment = None #отключил розовые предупреждения\n",
    "new_sex = {'male':1, 'female':0} #словарь\n",
    "Train['Sex'] = Train['Sex'].apply(lambda Train:new_sex[Train]) "
   ]
  },
  {
   "cell_type": "code",
   "execution_count": 16,
   "metadata": {},
   "outputs": [
    {
     "data": {
      "text/plain": [
       "0    1\n",
       "1    0\n",
       "2    0\n",
       "3    0\n",
       "4    1\n",
       "5    1\n",
       "6    1\n",
       "7    1\n",
       "8    0\n",
       "9    0\n",
       "Name: Sex, dtype: int64"
      ]
     },
     "execution_count": 16,
     "metadata": {},
     "output_type": "execute_result"
    }
   ],
   "source": [
    "#Необходимо проверить как теперь выглядет колонка с полом пассажира, проверю на 10 первых значениях\n",
    "\n",
    "Train['Sex'].head(10)"
   ]
  },
  {
   "cell_type": "markdown",
   "metadata": {},
   "source": [
    "Отлично. Теперь нужно разделить данные на две части: 1.Тренеровочные данные (на которых обучаю модель); 2.Тестовая данные (проверка работы модели). Импортирую из sklearn.model_selection train_test_split, которой позволит разбить данные на две выборки, размер тестовой (test_size) выборки будет равен 30%, параметр random_state определяет способ разделения набора данных. "
   ]
  },
  {
   "cell_type": "code",
   "execution_count": 17,
   "metadata": {},
   "outputs": [],
   "source": [
    "from sklearn.model_selection import train_test_split\n",
    "Train_train, Train_test, Target_train, Target_test = train_test_split(Train,Target, test_size = 0.2, random_state = 42)"
   ]
  },
  {
   "cell_type": "markdown",
   "metadata": {},
   "source": [
    "После того, как я разделил выборку на обучающую и тестовую, необходимо указать глубину дерева с помощью classifire. В классификаторе я буду использовать раяд параметров таких как max_depth и random_state. Max_depth обозначает глубину дерева, так как признаков не много и выборка не большая, думаю значение max_depth=5 будет достаточно(чем больше глубина, тем точность, предполагается, будет больше, но на обучение модели будет тратиться больше времени). Random_state - это номер результата, его можно указать любой, основная задача - это с помощью номера random_state воспроизвести результат, который я посчитаю лучшим. "
   ]
  },
  {
   "cell_type": "code",
   "execution_count": 18,
   "metadata": {},
   "outputs": [],
   "source": [
    "DT = tree.DecisionTreeClassifier(max_depth = 5, random_state = 1) "
   ]
  },
  {
   "cell_type": "code",
   "execution_count": 19,
   "metadata": {},
   "outputs": [
    {
     "data": {
      "text/plain": [
       "DecisionTreeClassifier(max_depth=5, random_state=1)"
      ]
     },
     "execution_count": 19,
     "metadata": {},
     "output_type": "execute_result"
    }
   ],
   "source": [
    "#Функция fit находит коэффициенты для уравнения, заданного с помощью используемого алгоритма в моем случае это дерево решений\n",
    "DT.fit(Train_train, Target_train) # обучениt модели с помощью дерева решений"
   ]
  },
  {
   "cell_type": "code",
   "execution_count": 22,
   "metadata": {},
   "outputs": [
    {
     "name": "stdout",
     "output_type": "stream",
     "text": [
      "Проверка показала, что модель предсказывает с точность 80.45%, выжил пассажир или нет.\n"
     ]
    }
   ],
   "source": [
    "#При проверки точности нужно использовать тестовую выборку\n",
    "def result():\n",
    "    x = DT.score(Train_test,Target_test)\n",
    "    y = round(x * 100, 2)\n",
    "    print(f'Проверка показала, что модель предсказывает с точность {y}%, выжил пассажир или нет.')\n",
    "result()"
   ]
  },
  {
   "cell_type": "markdown",
   "metadata": {},
   "source": [
    "Мне стало инстресно, как модель распределила вес признакаков, какие из признаков являются самыми главными? Для этого нужно подключить библиотеку eli5, далее вывести веса признаков по модели с помощью функци explain_weights_sklearn, где первым элементом функции идет переменная содержащая DecisionTreeClassifier, далее нужно указать, что feature_names = обучающая выборка переменная X, в моем случае это Train_train."
   ]
  },
  {
   "cell_type": "code",
   "execution_count": 23,
   "metadata": {},
   "outputs": [
    {
     "name": "stderr",
     "output_type": "stream",
     "text": [
      "C:\\Users\\germa\\anaconda3\\lib\\site-packages\\sklearn\\utils\\deprecation.py:143: FutureWarning: The sklearn.metrics.scorer module is  deprecated in version 0.22 and will be removed in version 0.24. The corresponding classes / functions should instead be imported from sklearn.metrics. Anything that cannot be imported from sklearn.metrics is now part of the private API.\n",
      "  warnings.warn(message, FutureWarning)\n",
      "C:\\Users\\germa\\anaconda3\\lib\\site-packages\\sklearn\\utils\\deprecation.py:143: FutureWarning: The sklearn.feature_selection.base module is  deprecated in version 0.22 and will be removed in version 0.24. The corresponding classes / functions should instead be imported from sklearn.feature_selection. Anything that cannot be imported from sklearn.feature_selection is now part of the private API.\n",
      "  warnings.warn(message, FutureWarning)\n"
     ]
    },
    {
     "data": {
      "text/html": [
       "\n",
       "    <style>\n",
       "    table.eli5-weights tr:hover {\n",
       "        filter: brightness(85%);\n",
       "    }\n",
       "</style>\n",
       "\n",
       "\n",
       "\n",
       "    \n",
       "\n",
       "    \n",
       "\n",
       "    \n",
       "\n",
       "    \n",
       "\n",
       "    \n",
       "\n",
       "    \n",
       "\n",
       "\n",
       "    \n",
       "\n",
       "    \n",
       "\n",
       "    \n",
       "\n",
       "    \n",
       "\n",
       "    \n",
       "\n",
       "    \n",
       "\n",
       "\n",
       "    \n",
       "\n",
       "    \n",
       "\n",
       "    \n",
       "\n",
       "    \n",
       "\n",
       "    \n",
       "        <table class=\"eli5-weights eli5-feature-importances\" style=\"border-collapse: collapse; border: none; margin-top: 0em; table-layout: auto;\">\n",
       "    <thead>\n",
       "    <tr style=\"border: none;\">\n",
       "        <th style=\"padding: 0 1em 0 0.5em; text-align: right; border: none;\">Weight</th>\n",
       "        <th style=\"padding: 0 0.5em 0 0.5em; text-align: left; border: none;\">Feature</th>\n",
       "    </tr>\n",
       "    </thead>\n",
       "    <tbody>\n",
       "    \n",
       "        <tr style=\"background-color: hsl(120, 100.00%, 80.00%); border: none;\">\n",
       "            <td style=\"padding: 0 1em 0 0.5em; text-align: right; border: none;\">\n",
       "                0.5413\n",
       "                \n",
       "            </td>\n",
       "            <td style=\"padding: 0 0.5em 0 0.5em; text-align: left; border: none;\">\n",
       "                Sex\n",
       "            </td>\n",
       "        </tr>\n",
       "    \n",
       "        <tr style=\"background-color: hsl(120, 100.00%, 89.89%); border: none;\">\n",
       "            <td style=\"padding: 0 1em 0 0.5em; text-align: right; border: none;\">\n",
       "                0.2042\n",
       "                \n",
       "            </td>\n",
       "            <td style=\"padding: 0 0.5em 0 0.5em; text-align: left; border: none;\">\n",
       "                Pclass\n",
       "            </td>\n",
       "        </tr>\n",
       "    \n",
       "        <tr style=\"background-color: hsl(120, 100.00%, 91.36%); border: none;\">\n",
       "            <td style=\"padding: 0 1em 0 0.5em; text-align: right; border: none;\">\n",
       "                0.1632\n",
       "                \n",
       "            </td>\n",
       "            <td style=\"padding: 0 0.5em 0 0.5em; text-align: left; border: none;\">\n",
       "                Fare\n",
       "            </td>\n",
       "        </tr>\n",
       "    \n",
       "        <tr style=\"background-color: hsl(120, 100.00%, 94.25%); border: none;\">\n",
       "            <td style=\"padding: 0 1em 0 0.5em; text-align: right; border: none;\">\n",
       "                0.0913\n",
       "                \n",
       "            </td>\n",
       "            <td style=\"padding: 0 0.5em 0 0.5em; text-align: left; border: none;\">\n",
       "                Age\n",
       "            </td>\n",
       "        </tr>\n",
       "    \n",
       "    \n",
       "    </tbody>\n",
       "</table>\n",
       "    \n",
       "\n",
       "    \n",
       "\n",
       "\n",
       "    \n",
       "\n",
       "    \n",
       "\n",
       "    \n",
       "\n",
       "    \n",
       "\n",
       "    \n",
       "\n",
       "    \n",
       "        \n",
       "        <br>\n",
       "        <pre>Sex <= 0.500  (34.4%)\n",
       "    Pclass <= 2.500  (18.3%)\n",
       "        Age <= 2.500  (0.3%)\n",
       "            Fare <= 88.775  (0.1%)  ---> 1.000\n",
       "            Fare > 88.775  (0.1%)  ---> 0.000\n",
       "        Age > 2.500  (18.0%)\n",
       "            Age <= 27.500  (6.6%)\n",
       "                Age <= 24.500  (5.8%)  ---> 0.976\n",
       "                Age > 24.500  (0.8%)  ---> 0.667\n",
       "            Age > 27.500  (11.4%)\n",
       "                Age <= 49.500  (9.1%)  ---> 1.000\n",
       "                Age > 49.500  (2.2%)  ---> 0.938\n",
       "    Pclass > 2.500  (16.2%)\n",
       "        Fare <= 23.350  (13.2%)\n",
       "            Fare <= 15.373  (9.7%)\n",
       "                Fare <= 8.040  (5.2%)  ---> 0.676\n",
       "                Fare > 8.040  (4.5%)  ---> 0.344\n",
       "            Fare > 15.373  (3.5%)\n",
       "                Fare <= 15.975  (0.8%)  ---> 1.000\n",
       "                Fare > 15.975  (2.7%)  ---> 0.684\n",
       "        Fare > 23.350  (2.9%)\n",
       "            Age <= 5.500  (0.4%)\n",
       "                Age <= 3.500  (0.3%)  ---> 0.000\n",
       "                Age > 3.500  (0.1%)  ---> 1.000\n",
       "            Age > 5.500  (2.5%)  ---> 0.000\n",
       "Sex > 0.500  (65.6%)\n",
       "    Age <= 6.500  (3.1%)\n",
       "        Pclass <= 2.500  (1.3%)  ---> 1.000\n",
       "        Pclass > 2.500  (1.8%)\n",
       "            Fare <= 20.825  (0.7%)  ---> 1.000\n",
       "            Fare > 20.825  (1.1%)\n",
       "                Age <= 2.500  (0.7%)  ---> 0.000\n",
       "                Age > 2.500  (0.4%)  ---> 0.333\n",
       "    Age > 6.500  (62.5%)\n",
       "        Pclass <= 1.500  (12.8%)\n",
       "            Fare <= 387.665  (12.5%)\n",
       "                Fare <= 26.144  (1.0%)  ---> 0.000\n",
       "                Fare > 26.144  (11.5%)  ---> 0.341\n",
       "            Fare > 387.665  (0.3%)  ---> 1.000\n",
       "        Pclass > 1.500  (49.7%)\n",
       "            Fare <= 51.698  (47.9%)\n",
       "                Age <= 32.250  (35.3%)  ---> 0.131\n",
       "                Age > 32.250  (12.6%)  ---> 0.056\n",
       "            Fare > 51.698  (1.8%)\n",
       "                Fare <= 63.023  (0.8%)  ---> 0.667\n",
       "                Fare > 63.023  (1.0%)  ---> 0.000</pre>\n",
       "    \n",
       "\n",
       "\n",
       "\n"
      ],
      "text/plain": [
       "Explanation(estimator='DecisionTreeClassifier(max_depth=5, random_state=1)', description='\\nDecision tree feature importances; values are numbers 0 <= x <= 1;\\nall values sum to 1.\\n', error=None, method='decision tree', is_regression=False, targets=None, feature_importances=FeatureImportances(importances=[FeatureWeight(feature='Sex', weight=0.5412531053933433, std=None, value=None), FeatureWeight(feature='Pclass', weight=0.20424508754638585, std=None, value=None), FeatureWeight(feature='Fare', weight=0.16321331757044358, std=None, value=None), FeatureWeight(feature='Age', weight=0.09128848948982722, std=None, value=None)], remaining=0), decision_tree=TreeInfo(criterion='gini', tree=NodeInfo(id=0, is_leaf=False, value=[444.0, 268.0], value_ratio=[0.6235955056179775, 0.37640449438202245], impurity=0.469448301982073, samples=712, sample_ratio=1.0, feature_name='Sex', feature_id=1, threshold=0.5, left=NodeInfo(id=1, is_leaf=False, value=[64.0, 181.0], value_ratio=[0.2612244897959184, 0.7387755102040816], impurity=0.38597251145356104, samples=245, sample_ratio=0.3441011235955056, feature_name='Pclass', feature_id=0, threshold=2.5, left=NodeInfo(id=2, is_leaf=False, value=[5.0, 125.0], value_ratio=[0.038461538461538464, 0.9615384615384616], impurity=0.07396449704142016, samples=130, sample_ratio=0.18258426966292135, feature_name='Age', feature_id=2, threshold=2.5, left=NodeInfo(id=3, is_leaf=False, value=[1.0, 1.0], value_ratio=[0.5, 0.5], impurity=0.5, samples=2, sample_ratio=0.0028089887640449437, feature_name='Fare', feature_id=3, threshold=88.7750015258789, left=NodeInfo(id=4, is_leaf=True, value=[0.0, 1.0], value_ratio=[0.0, 1.0], impurity=0.0, samples=1, sample_ratio=0.0014044943820224719, feature_name=None, feature_id=None, threshold=None, left=None, right=None), right=NodeInfo(id=5, is_leaf=True, value=[1.0, 0.0], value_ratio=[1.0, 0.0], impurity=0.0, samples=1, sample_ratio=0.0014044943820224719, feature_name=None, feature_id=None, threshold=None, left=None, right=None)), right=NodeInfo(id=6, is_leaf=False, value=[4.0, 124.0], value_ratio=[0.03125, 0.96875], impurity=0.060546875, samples=128, sample_ratio=0.1797752808988764, feature_name='Age', feature_id=2, threshold=27.5, left=NodeInfo(id=7, is_leaf=False, value=[3.0, 44.0], value_ratio=[0.06382978723404255, 0.9361702127659575], impurity=0.11951109099139878, samples=47, sample_ratio=0.06601123595505617, feature_name='Age', feature_id=2, threshold=24.5, left=NodeInfo(id=8, is_leaf=True, value=[1.0, 40.0], value_ratio=[0.024390243902439025, 0.975609756097561], impurity=0.04759071980963714, samples=41, sample_ratio=0.05758426966292135, feature_name=None, feature_id=None, threshold=None, left=None, right=None), right=NodeInfo(id=9, is_leaf=True, value=[2.0, 4.0], value_ratio=[0.3333333333333333, 0.6666666666666666], impurity=0.4444444444444444, samples=6, sample_ratio=0.008426966292134831, feature_name=None, feature_id=None, threshold=None, left=None, right=None)), right=NodeInfo(id=10, is_leaf=False, value=[1.0, 80.0], value_ratio=[0.012345679012345678, 0.9876543209876543], impurity=0.024386526444139633, samples=81, sample_ratio=0.11376404494382023, feature_name='Age', feature_id=2, threshold=49.5, left=NodeInfo(id=11, is_leaf=True, value=[0.0, 65.0], value_ratio=[0.0, 1.0], impurity=0.0, samples=65, sample_ratio=0.09129213483146068, feature_name=None, feature_id=None, threshold=None, left=None, right=None), right=NodeInfo(id=12, is_leaf=True, value=[1.0, 15.0], value_ratio=[0.0625, 0.9375], impurity=0.1171875, samples=16, sample_ratio=0.02247191011235955, feature_name=None, feature_id=None, threshold=None, left=None, right=None)))), right=NodeInfo(id=13, is_leaf=False, value=[59.0, 56.0], value_ratio=[0.5130434782608696, 0.48695652173913045], impurity=0.4996597353497164, samples=115, sample_ratio=0.16151685393258428, feature_name='Fare', feature_id=3, threshold=23.350000381469727, left=NodeInfo(id=14, is_leaf=False, value=[39.0, 55.0], value_ratio=[0.4148936170212766, 0.5851063829787234], impurity=0.48551380715255776, samples=94, sample_ratio=0.13202247191011235, feature_name='Fare', feature_id=3, threshold=15.372900009155273, left=NodeInfo(id=15, is_leaf=False, value=[33.0, 36.0], value_ratio=[0.4782608695652174, 0.5217391304347826], impurity=0.499054820415879, samples=69, sample_ratio=0.09691011235955056, feature_name='Fare', feature_id=3, threshold=8.039599895477295, left=NodeInfo(id=16, is_leaf=True, value=[12.0, 25.0], value_ratio=[0.32432432432432434, 0.6756756756756757], impurity=0.43827611395178967, samples=37, sample_ratio=0.05196629213483146, feature_name=None, feature_id=None, threshold=None, left=None, right=None), right=NodeInfo(id=17, is_leaf=True, value=[21.0, 11.0], value_ratio=[0.65625, 0.34375], impurity=0.451171875, samples=32, sample_ratio=0.0449438202247191, feature_name=None, feature_id=None, threshold=None, left=None, right=None)), right=NodeInfo(id=18, is_leaf=False, value=[6.0, 19.0], value_ratio=[0.24, 0.76], impurity=0.3648, samples=25, sample_ratio=0.0351123595505618, feature_name='Fare', feature_id=3, threshold=15.975000381469727, left=NodeInfo(id=19, is_leaf=True, value=[0.0, 6.0], value_ratio=[0.0, 1.0], impurity=0.0, samples=6, sample_ratio=0.008426966292134831, feature_name=None, feature_id=None, threshold=None, left=None, right=None), right=NodeInfo(id=20, is_leaf=True, value=[6.0, 13.0], value_ratio=[0.3157894736842105, 0.6842105263157895], impurity=0.43213296398891965, samples=19, sample_ratio=0.026685393258426966, feature_name=None, feature_id=None, threshold=None, left=None, right=None))), right=NodeInfo(id=21, is_leaf=False, value=[20.0, 1.0], value_ratio=[0.9523809523809523, 0.047619047619047616], impurity=0.09070294784580502, samples=21, sample_ratio=0.02949438202247191, feature_name='Age', feature_id=2, threshold=5.5, left=NodeInfo(id=22, is_leaf=False, value=[2.0, 1.0], value_ratio=[0.6666666666666666, 0.3333333333333333], impurity=0.4444444444444444, samples=3, sample_ratio=0.004213483146067416, feature_name='Age', feature_id=2, threshold=3.5, left=NodeInfo(id=23, is_leaf=True, value=[2.0, 0.0], value_ratio=[1.0, 0.0], impurity=0.0, samples=2, sample_ratio=0.0028089887640449437, feature_name=None, feature_id=None, threshold=None, left=None, right=None), right=NodeInfo(id=24, is_leaf=True, value=[0.0, 1.0], value_ratio=[0.0, 1.0], impurity=0.0, samples=1, sample_ratio=0.0014044943820224719, feature_name=None, feature_id=None, threshold=None, left=None, right=None)), right=NodeInfo(id=25, is_leaf=True, value=[18.0, 0.0], value_ratio=[1.0, 0.0], impurity=0.0, samples=18, sample_ratio=0.025280898876404494, feature_name=None, feature_id=None, threshold=None, left=None, right=None)))), right=NodeInfo(id=26, is_leaf=False, value=[380.0, 87.0], value_ratio=[0.8137044967880086, 0.18629550321199143], impurity=0.3031789773899647, samples=467, sample_ratio=0.6558988764044944, feature_name='Age', feature_id=2, threshold=6.5, left=NodeInfo(id=27, is_leaf=False, value=[7.0, 15.0], value_ratio=[0.3181818181818182, 0.6818181818181818], impurity=0.43388429752066116, samples=22, sample_ratio=0.03089887640449438, feature_name='Pclass', feature_id=0, threshold=2.5, left=NodeInfo(id=28, is_leaf=True, value=[0.0, 9.0], value_ratio=[0.0, 1.0], impurity=0.0, samples=9, sample_ratio=0.012640449438202247, feature_name=None, feature_id=None, threshold=None, left=None, right=None), right=NodeInfo(id=29, is_leaf=False, value=[7.0, 6.0], value_ratio=[0.5384615384615384, 0.46153846153846156], impurity=0.4970414201183432, samples=13, sample_ratio=0.018258426966292134, feature_name='Fare', feature_id=3, threshold=20.825000762939453, left=NodeInfo(id=30, is_leaf=True, value=[0.0, 5.0], value_ratio=[0.0, 1.0], impurity=0.0, samples=5, sample_ratio=0.007022471910112359, feature_name=None, feature_id=None, threshold=None, left=None, right=None), right=NodeInfo(id=31, is_leaf=False, value=[7.0, 1.0], value_ratio=[0.875, 0.125], impurity=0.21875, samples=8, sample_ratio=0.011235955056179775, feature_name='Age', feature_id=2, threshold=2.5, left=NodeInfo(id=32, is_leaf=True, value=[5.0, 0.0], value_ratio=[1.0, 0.0], impurity=0.0, samples=5, sample_ratio=0.007022471910112359, feature_name=None, feature_id=None, threshold=None, left=None, right=None), right=NodeInfo(id=33, is_leaf=True, value=[2.0, 1.0], value_ratio=[0.6666666666666666, 0.3333333333333333], impurity=0.4444444444444444, samples=3, sample_ratio=0.004213483146067416, feature_name=None, feature_id=None, threshold=None, left=None, right=None)))), right=NodeInfo(id=34, is_leaf=False, value=[373.0, 72.0], value_ratio=[0.8382022471910112, 0.16179775280898875], impurity=0.27123847998990025, samples=445, sample_ratio=0.625, feature_name='Pclass', feature_id=0, threshold=1.5, left=NodeInfo(id=35, is_leaf=False, value=[61.0, 30.0], value_ratio=[0.6703296703296703, 0.32967032967032966], impurity=0.44197560681077164, samples=91, sample_ratio=0.12780898876404495, feature_name='Fare', feature_id=3, threshold=387.66461181640625, left=NodeInfo(id=36, is_leaf=False, value=[61.0, 28.0], value_ratio=[0.6853932584269663, 0.3146067415730337], impurity=0.43125867945966423, samples=89, sample_ratio=0.125, feature_name='Fare', feature_id=3, threshold=26.143750190734863, left=NodeInfo(id=37, is_leaf=True, value=[7.0, 0.0], value_ratio=[1.0, 0.0], impurity=0.0, samples=7, sample_ratio=0.009831460674157303, feature_name=None, feature_id=None, threshold=None, left=None, right=None), right=NodeInfo(id=38, is_leaf=True, value=[54.0, 28.0], value_ratio=[0.6585365853658537, 0.34146341463414637], impurity=0.44973230220107074, samples=82, sample_ratio=0.1151685393258427, feature_name=None, feature_id=None, threshold=None, left=None, right=None)), right=NodeInfo(id=39, is_leaf=True, value=[0.0, 2.0], value_ratio=[0.0, 1.0], impurity=0.0, samples=2, sample_ratio=0.0028089887640449437, feature_name=None, feature_id=None, threshold=None, left=None, right=None)), right=NodeInfo(id=40, is_leaf=False, value=[312.0, 42.0], value_ratio=[0.8813559322033898, 0.11864406779661017], impurity=0.20913530594656704, samples=354, sample_ratio=0.49719101123595505, feature_name='Fare', feature_id=3, threshold=51.69790077209473, left=NodeInfo(id=41, is_leaf=False, value=[303.0, 38.0], value_ratio=[0.8885630498533724, 0.11143695014662756], impurity=0.19803751257729119, samples=341, sample_ratio=0.4789325842696629, feature_name='Age', feature_id=2, threshold=32.25, left=NodeInfo(id=42, is_leaf=True, value=[218.0, 33.0], value_ratio=[0.8685258964143426, 0.13147410358565736], impurity=0.2283773273440104, samples=251, sample_ratio=0.35252808988764045, feature_name=None, feature_id=None, threshold=None, left=None, right=None), right=NodeInfo(id=43, is_leaf=True, value=[85.0, 5.0], value_ratio=[0.9444444444444444, 0.05555555555555555], impurity=0.1049382716049383, samples=90, sample_ratio=0.12640449438202248, feature_name=None, feature_id=None, threshold=None, left=None, right=None)), right=NodeInfo(id=44, is_leaf=False, value=[9.0, 4.0], value_ratio=[0.6923076923076923, 0.3076923076923077], impurity=0.42603550295857984, samples=13, sample_ratio=0.018258426966292134, feature_name='Fare', feature_id=3, threshold=63.02290153503418, left=NodeInfo(id=45, is_leaf=True, value=[2.0, 4.0], value_ratio=[0.3333333333333333, 0.6666666666666666], impurity=0.4444444444444444, samples=6, sample_ratio=0.008426966292134831, feature_name=None, feature_id=None, threshold=None, left=None, right=None), right=NodeInfo(id=46, is_leaf=True, value=[7.0, 0.0], value_ratio=[1.0, 0.0], impurity=0.0, samples=7, sample_ratio=0.009831460674157303, feature_name=None, feature_id=None, threshold=None, left=None, right=None)))))), graphviz='digraph Tree {\\nnode [shape=box] ;\\n0 [label=\"Sex <= 0.5\\\\ngini = 0.469\\\\nsamples = 100.0%\\\\nvalue = [0.624, 0.376]\"] ;\\n1 [label=\"Pclass <= 2.5\\\\ngini = 0.386\\\\nsamples = 34.4%\\\\nvalue = [0.261, 0.739]\"] ;\\n0 -> 1 [labeldistance=2.5, labelangle=45, headlabel=\"True\"] ;\\n2 [label=\"Age <= 2.5\\\\ngini = 0.074\\\\nsamples = 18.3%\\\\nvalue = [0.038, 0.962]\"] ;\\n1 -> 2 ;\\n3 [label=\"Fare <= 88.775\\\\ngini = 0.5\\\\nsamples = 0.3%\\\\nvalue = [0.5, 0.5]\"] ;\\n2 -> 3 ;\\n4 [label=\"gini = 0.0\\\\nsamples = 0.1%\\\\nvalue = [0.0, 1.0]\"] ;\\n3 -> 4 ;\\n5 [label=\"gini = 0.0\\\\nsamples = 0.1%\\\\nvalue = [1.0, 0.0]\"] ;\\n3 -> 5 ;\\n6 [label=\"Age <= 27.5\\\\ngini = 0.061\\\\nsamples = 18.0%\\\\nvalue = [0.031, 0.969]\"] ;\\n2 -> 6 ;\\n7 [label=\"Age <= 24.5\\\\ngini = 0.12\\\\nsamples = 6.6%\\\\nvalue = [0.064, 0.936]\"] ;\\n6 -> 7 ;\\n8 [label=\"gini = 0.048\\\\nsamples = 5.8%\\\\nvalue = [0.024, 0.976]\"] ;\\n7 -> 8 ;\\n9 [label=\"gini = 0.444\\\\nsamples = 0.8%\\\\nvalue = [0.333, 0.667]\"] ;\\n7 -> 9 ;\\n10 [label=\"Age <= 49.5\\\\ngini = 0.024\\\\nsamples = 11.4%\\\\nvalue = [0.012, 0.988]\"] ;\\n6 -> 10 ;\\n11 [label=\"gini = 0.0\\\\nsamples = 9.1%\\\\nvalue = [0.0, 1.0]\"] ;\\n10 -> 11 ;\\n12 [label=\"gini = 0.117\\\\nsamples = 2.2%\\\\nvalue = [0.062, 0.938]\"] ;\\n10 -> 12 ;\\n13 [label=\"Fare <= 23.35\\\\ngini = 0.5\\\\nsamples = 16.2%\\\\nvalue = [0.513, 0.487]\"] ;\\n1 -> 13 ;\\n14 [label=\"Fare <= 15.373\\\\ngini = 0.486\\\\nsamples = 13.2%\\\\nvalue = [0.415, 0.585]\"] ;\\n13 -> 14 ;\\n15 [label=\"Fare <= 8.04\\\\ngini = 0.499\\\\nsamples = 9.7%\\\\nvalue = [0.478, 0.522]\"] ;\\n14 -> 15 ;\\n16 [label=\"gini = 0.438\\\\nsamples = 5.2%\\\\nvalue = [0.324, 0.676]\"] ;\\n15 -> 16 ;\\n17 [label=\"gini = 0.451\\\\nsamples = 4.5%\\\\nvalue = [0.656, 0.344]\"] ;\\n15 -> 17 ;\\n18 [label=\"Fare <= 15.975\\\\ngini = 0.365\\\\nsamples = 3.5%\\\\nvalue = [0.24, 0.76]\"] ;\\n14 -> 18 ;\\n19 [label=\"gini = 0.0\\\\nsamples = 0.8%\\\\nvalue = [0.0, 1.0]\"] ;\\n18 -> 19 ;\\n20 [label=\"gini = 0.432\\\\nsamples = 2.7%\\\\nvalue = [0.316, 0.684]\"] ;\\n18 -> 20 ;\\n21 [label=\"Age <= 5.5\\\\ngini = 0.091\\\\nsamples = 2.9%\\\\nvalue = [0.952, 0.048]\"] ;\\n13 -> 21 ;\\n22 [label=\"Age <= 3.5\\\\ngini = 0.444\\\\nsamples = 0.4%\\\\nvalue = [0.667, 0.333]\"] ;\\n21 -> 22 ;\\n23 [label=\"gini = 0.0\\\\nsamples = 0.3%\\\\nvalue = [1.0, 0.0]\"] ;\\n22 -> 23 ;\\n24 [label=\"gini = 0.0\\\\nsamples = 0.1%\\\\nvalue = [0.0, 1.0]\"] ;\\n22 -> 24 ;\\n25 [label=\"gini = 0.0\\\\nsamples = 2.5%\\\\nvalue = [1.0, 0.0]\"] ;\\n21 -> 25 ;\\n26 [label=\"Age <= 6.5\\\\ngini = 0.303\\\\nsamples = 65.6%\\\\nvalue = [0.814, 0.186]\"] ;\\n0 -> 26 [labeldistance=2.5, labelangle=-45, headlabel=\"False\"] ;\\n27 [label=\"Pclass <= 2.5\\\\ngini = 0.434\\\\nsamples = 3.1%\\\\nvalue = [0.318, 0.682]\"] ;\\n26 -> 27 ;\\n28 [label=\"gini = 0.0\\\\nsamples = 1.3%\\\\nvalue = [0.0, 1.0]\"] ;\\n27 -> 28 ;\\n29 [label=\"Fare <= 20.825\\\\ngini = 0.497\\\\nsamples = 1.8%\\\\nvalue = [0.538, 0.462]\"] ;\\n27 -> 29 ;\\n30 [label=\"gini = 0.0\\\\nsamples = 0.7%\\\\nvalue = [0.0, 1.0]\"] ;\\n29 -> 30 ;\\n31 [label=\"Age <= 2.5\\\\ngini = 0.219\\\\nsamples = 1.1%\\\\nvalue = [0.875, 0.125]\"] ;\\n29 -> 31 ;\\n32 [label=\"gini = 0.0\\\\nsamples = 0.7%\\\\nvalue = [1.0, 0.0]\"] ;\\n31 -> 32 ;\\n33 [label=\"gini = 0.444\\\\nsamples = 0.4%\\\\nvalue = [0.667, 0.333]\"] ;\\n31 -> 33 ;\\n34 [label=\"Pclass <= 1.5\\\\ngini = 0.271\\\\nsamples = 62.5%\\\\nvalue = [0.838, 0.162]\"] ;\\n26 -> 34 ;\\n35 [label=\"Fare <= 387.665\\\\ngini = 0.442\\\\nsamples = 12.8%\\\\nvalue = [0.67, 0.33]\"] ;\\n34 -> 35 ;\\n36 [label=\"Fare <= 26.144\\\\ngini = 0.431\\\\nsamples = 12.5%\\\\nvalue = [0.685, 0.315]\"] ;\\n35 -> 36 ;\\n37 [label=\"gini = 0.0\\\\nsamples = 1.0%\\\\nvalue = [1.0, 0.0]\"] ;\\n36 -> 37 ;\\n38 [label=\"gini = 0.45\\\\nsamples = 11.5%\\\\nvalue = [0.659, 0.341]\"] ;\\n36 -> 38 ;\\n39 [label=\"gini = 0.0\\\\nsamples = 0.3%\\\\nvalue = [0.0, 1.0]\"] ;\\n35 -> 39 ;\\n40 [label=\"Fare <= 51.698\\\\ngini = 0.209\\\\nsamples = 49.7%\\\\nvalue = [0.881, 0.119]\"] ;\\n34 -> 40 ;\\n41 [label=\"Age <= 32.25\\\\ngini = 0.198\\\\nsamples = 47.9%\\\\nvalue = [0.889, 0.111]\"] ;\\n40 -> 41 ;\\n42 [label=\"gini = 0.228\\\\nsamples = 35.3%\\\\nvalue = [0.869, 0.131]\"] ;\\n41 -> 42 ;\\n43 [label=\"gini = 0.105\\\\nsamples = 12.6%\\\\nvalue = [0.944, 0.056]\"] ;\\n41 -> 43 ;\\n44 [label=\"Fare <= 63.023\\\\ngini = 0.426\\\\nsamples = 1.8%\\\\nvalue = [0.692, 0.308]\"] ;\\n40 -> 44 ;\\n45 [label=\"gini = 0.444\\\\nsamples = 0.8%\\\\nvalue = [0.333, 0.667]\"] ;\\n44 -> 45 ;\\n46 [label=\"gini = 0.0\\\\nsamples = 1.0%\\\\nvalue = [1.0, 0.0]\"] ;\\n44 -> 46 ;\\n}', is_classification=True), highlight_spaces=None, transition_features=None, image=None)"
      ]
     },
     "execution_count": 23,
     "metadata": {},
     "output_type": "execute_result"
    }
   ],
   "source": [
    "import eli5\n",
    "eli5.explain_weights_sklearn(DT, feature_names = Train_train.columns.values)"
   ]
  },
  {
   "cell_type": "markdown",
   "metadata": {},
   "source": [
    "На основе данных выше очевидно, что самый большой вес имеет пол пассажира(54,1%), далее следует класс каюты(20,4%), тариф билета(16,3%) и потом возраст(9,2%). Также представлено дерерво решений."
   ]
  },
  {
   "cell_type": "code",
   "execution_count": null,
   "metadata": {},
   "outputs": [],
   "source": []
  },
  {
   "cell_type": "code",
   "execution_count": 156,
   "metadata": {},
   "outputs": [],
   "source": []
  },
  {
   "cell_type": "code",
   "execution_count": null,
   "metadata": {},
   "outputs": [],
   "source": []
  },
  {
   "cell_type": "code",
   "execution_count": null,
   "metadata": {},
   "outputs": [],
   "source": []
  },
  {
   "cell_type": "code",
   "execution_count": null,
   "metadata": {},
   "outputs": [],
   "source": []
  },
  {
   "cell_type": "code",
   "execution_count": null,
   "metadata": {},
   "outputs": [],
   "source": []
  },
  {
   "cell_type": "code",
   "execution_count": null,
   "metadata": {},
   "outputs": [],
   "source": []
  },
  {
   "cell_type": "code",
   "execution_count": null,
   "metadata": {},
   "outputs": [],
   "source": []
  },
  {
   "cell_type": "code",
   "execution_count": null,
   "metadata": {},
   "outputs": [],
   "source": []
  },
  {
   "cell_type": "code",
   "execution_count": null,
   "metadata": {},
   "outputs": [],
   "source": []
  },
  {
   "cell_type": "code",
   "execution_count": null,
   "metadata": {},
   "outputs": [],
   "source": []
  },
  {
   "cell_type": "code",
   "execution_count": null,
   "metadata": {},
   "outputs": [],
   "source": []
  },
  {
   "cell_type": "code",
   "execution_count": null,
   "metadata": {},
   "outputs": [],
   "source": []
  },
  {
   "cell_type": "code",
   "execution_count": null,
   "metadata": {},
   "outputs": [],
   "source": []
  },
  {
   "cell_type": "code",
   "execution_count": null,
   "metadata": {},
   "outputs": [],
   "source": []
  },
  {
   "cell_type": "code",
   "execution_count": null,
   "metadata": {},
   "outputs": [],
   "source": []
  },
  {
   "cell_type": "code",
   "execution_count": null,
   "metadata": {},
   "outputs": [],
   "source": []
  }
 ],
 "metadata": {
  "kernelspec": {
   "display_name": "Python 3",
   "language": "python",
   "name": "python3"
  },
  "language_info": {
   "codemirror_mode": {
    "name": "ipython",
    "version": 3
   },
   "file_extension": ".py",
   "mimetype": "text/x-python",
   "name": "python",
   "nbconvert_exporter": "python",
   "pygments_lexer": "ipython3",
   "version": "3.8.3"
  }
 },
 "nbformat": 4,
 "nbformat_minor": 4
}
